{
 "cells": [
  {
   "cell_type": "markdown",
   "id": "e0609bf1-5645-45dc-b9b7-29a4487a4ca4",
   "metadata": {},
   "source": [
    "# Data Science Tools and Ecosystem"
   ]
  },
  {
   "cell_type": "markdown",
   "id": "1ca75fb8-2abc-466e-94aa-ebb63bde9f29",
   "metadata": {},
   "source": [
    "### In this notebook, Data Science Tools and Ecosystem are summarised."
   ]
  },
  {
   "cell_type": "markdown",
   "id": "f494da91-49d4-4d38-a845-bfd05e0c7b1b",
   "metadata": {},
   "source": [
    "### Objectives:\n",
    "- List Popular Data Science Languages\n",
    "- List commonly used libraries\n",
    "- List data science tools\n",
    "- Evaluate arithmetic expressions"
   ]
  },
  {
   "cell_type": "markdown",
   "id": "c5a4f021-fdb6-482a-8d9c-6ae41ad5cfb9",
   "metadata": {},
   "source": [
    "## Author\n",
    "Thomas Strike"
   ]
  },
  {
   "cell_type": "markdown",
   "id": "9166d088-dbf6-4791-9a2d-b02a6936c4f0",
   "metadata": {},
   "source": [
    "#### Some of the popular languages that Data Scientists use are:\n",
    "1. Python\n",
    "2. R\n",
    "3. C++\n",
    "4. SQL"
   ]
  },
  {
   "cell_type": "markdown",
   "id": "cd78c586-4592-444b-9c7d-1e4de5977dbe",
   "metadata": {},
   "source": [
    "#### Some of the commonly used libraries used by Data Scientists include:\n",
    "1. Pandas\n",
    "2. NumPy\n",
    "3. Matplotlib\n",
    "4. Scaborn"
   ]
  },
  {
   "cell_type": "markdown",
   "id": "320abce1-b5a8-4713-ab0f-3ecf47b2244c",
   "metadata": {},
   "source": [
    "|Data Science Tools:|\n",
    "|------------------|\n",
    "|Apache Hadoop|\n",
    "|Apache Spark|\n",
    "|Jupyter Notebook|"
   ]
  },
  {
   "cell_type": "markdown",
   "id": "deaf651c-9502-4306-a9c7-28cfdfee4f72",
   "metadata": {},
   "source": [
    "### Below are a few examples of evaluating arithmetic expressions in Python:"
   ]
  },
  {
   "cell_type": "code",
   "execution_count": 2,
   "id": "c8c23eac-9450-4383-9b02-0a85c667221b",
   "metadata": {},
   "outputs": [
    {
     "data": {
      "text/plain": [
       "17"
      ]
     },
     "execution_count": 2,
     "metadata": {},
     "output_type": "execute_result"
    }
   ],
   "source": [
    "#This a simple arithmetic expression to mutiply then add integers:\n",
    "(3*4)+5"
   ]
  },
  {
   "cell_type": "code",
   "execution_count": 3,
   "id": "1ef3d04c-7ef3-493b-b020-7b5a67b9fe87",
   "metadata": {},
   "outputs": [
    {
     "data": {
      "text/plain": [
       "3.6666666666666665"
      ]
     },
     "execution_count": 3,
     "metadata": {},
     "output_type": "execute_result"
    }
   ],
   "source": [
    "#This will convert 200 minutes to hours by diving by 60:\n",
    "220/60"
   ]
  },
  {
   "cell_type": "code",
   "execution_count": null,
   "id": "98a16ad6-9651-4796-9dab-68e47ba13057",
   "metadata": {},
   "outputs": [],
   "source": []
  }
 ],
 "metadata": {
  "kernelspec": {
   "display_name": "Python [conda env:base] *",
   "language": "python",
   "name": "conda-base-py"
  },
  "language_info": {
   "codemirror_mode": {
    "name": "ipython",
    "version": 3
   },
   "file_extension": ".py",
   "mimetype": "text/x-python",
   "name": "python",
   "nbconvert_exporter": "python",
   "pygments_lexer": "ipython3",
   "version": "3.13.5"
  }
 },
 "nbformat": 4,
 "nbformat_minor": 5
}
